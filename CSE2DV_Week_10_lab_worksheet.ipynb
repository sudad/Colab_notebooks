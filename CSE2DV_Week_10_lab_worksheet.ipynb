{
  "nbformat": 4,
  "nbformat_minor": 0,
  "metadata": {
    "colab": {
      "provenance": [],
      "include_colab_link": true
    },
    "kernelspec": {
      "name": "python3",
      "display_name": "Python 3"
    },
    "language_info": {
      "name": "python"
    }
  },
  "cells": [
    {
      "cell_type": "markdown",
      "metadata": {
        "id": "view-in-github",
        "colab_type": "text"
      },
      "source": [
        "<a href=\"https://colab.research.google.com/github/sudad/Colab_notebooks/blob/main/CSE2DV_Week_10_lab_worksheet.ipynb\" target=\"_parent\"><img src=\"https://colab.research.google.com/assets/colab-badge.svg\" alt=\"Open In Colab\"/></a>"
      ]
    },
    {
      "cell_type": "markdown",
      "source": [
        "# CSE2DV/CSE5INV - Week 10 lab notebook\n",
        "\n",
        "In this week's lab, we're going to learn to work with and to visualize network data. We're going to make use of the `pandas` package to load datasets, the `networkx` package to create and manipulate networks, and the `pyvis` package to visualize them.\n",
        "\n",
        "From the `networkx` documentation:\n",
        "\n",
        "> NetworkX is a Python package for the creation, manipulation, and study of the structure, dynamics, and functions of complex networks.\n",
        "\n",
        "From the `pyvis` documentation:\n",
        "\n",
        "> The goal of this project is to build a python based approach to constructing and visualizing network graphs in the same space. A pyvis network can be customized on a per node or per edge basis. Nodes can be given colors, sizes, labels, and other metadata. Each graph can be interacted with, allowing the dragging, hovering, and selection of nodes and edges. Each graph’s layout algorithm can be tweaked as well to allow experimentation with rendering of larger graphs.\n",
        "\n"
      ],
      "metadata": {
        "id": "-_Viwmhp45g5"
      }
    },
    {
      "cell_type": "code",
      "source": [
        "# pyvis is not available on Google Colab by default,\n",
        "# NOTE: This should only take a minute, but please be patient!\n",
        "!pip install pyvis\n"
      ],
      "metadata": {
        "id": "ceT-UkwTxbhY",
        "collapsed": true
      },
      "execution_count": null,
      "outputs": []
    },
    {
      "cell_type": "code",
      "execution_count": null,
      "metadata": {
        "id": "aNnggKmV4zil",
        "collapsed": true
      },
      "outputs": [],
      "source": [
        "\n",
        "# Do the imports of pyvis, networkx, and pandas\n",
        "from pyvis.network import Network\n",
        "import networkx as nx\n",
        "import pandas as pd\n",
        "\n",
        "# Import IPython which is needed to display outputs in colab\n",
        "from IPython.display import display, HTML\n",
        "\n",
        "# Import shutil which is needed to unzip the pandas dataset\n",
        "import shutil"
      ]
    },
    {
      "cell_type": "markdown",
      "source": [
        "# Manually editing Network() objects in pyvis.network\n",
        "\n",
        "One way to bring in network data to visualize with `pyvis` is to manually edit a `pyvis.network.Network` object. We'll start off doing things that way. It's a bit tedious, but educational. First step is to instantiate a `Network` object:\n",
        "\n",
        "`net = Network()`\n",
        "\n",
        "Once your basic network has been created, you can add nodes to the network with the `Network.add_node()` function, either one at a time:\n",
        "\n",
        "`net.add_node(1, label=\"Node 1\") # node id = 1 and label = Node 1`\n",
        "\n",
        "`net.add_node(2) # node id and label = 2`\n",
        "\n",
        "or as a list:\n",
        "\n",
        "`nodes = [\"a\", \"b\", \"c\", \"d\"]`\n",
        "\n",
        "`net.add_nodes(nodes) # node ids and labels = [\"a\", \"b\", \"c\", \"d\"]`\n",
        "\n",
        "`net.add_nodes(\"hello\") # node ids and labels = [\"h\", \"e\", \"l\", \"o\"]`\n",
        "\n",
        "With `add_node()` or `add_nodes()`, you can also add one or more keyword arguments associated with each node. The valid keywords (which are relatively few and hopefully self-explanatory) are\n",
        "\n",
        "`size, value, title, x, y, label, color`\n",
        "\n",
        "This example employs all of them:\n",
        "\n",
        "`g = Network()`\n",
        "\n",
        "`g.add_nodes([1,2,3],`\n",
        "\n",
        "`            value=[10, 100, 400],`\n",
        "\n",
        "`            title=['I am node 1', 'node 2 here', 'and im node 3'],`\n",
        "\n",
        "`            x=[21.4, 54.2, 11.2],`\n",
        "\n",
        "`            y=[100.2, 23.54, 32.1],`\n",
        "\n",
        "`            label=['NODE 1', 'NODE 2', 'NODE 3'],`\n",
        "\n",
        "`            color=['#00ff1e', '#162347', '#dd4b39'])`\n",
        "\n",
        "\n",
        "Once you have created nodes in your network, you can also add edges:\n",
        "\n",
        "`net = Network()`\n",
        "\n",
        "`net.add_node(0, label='a')`\n",
        "\n",
        "`net.add_node(1, label='b')`\n",
        "\n",
        "`net.add_edge(0, 1)`\n",
        "\n",
        "Edges can have one keyword argument, `weight`, associated with them, as in:\n",
        "\n",
        "`net.add_edge(0, 1, weight=.87)`"
      ],
      "metadata": {
        "id": "uycBKhj29_qR"
      }
    },
    {
      "cell_type": "markdown",
      "source": [
        "# Problem with interactive vis in Colab\n",
        "\n",
        "So, now's the time where I tell you that this isn't as slick as it should be. If you were running this in a  Jupyter Notebook on your local computer, all you'd have to do is add `notebook=True` to the `Network()` call on the first line of these cells, and it would pop up an interactive visualization.\n",
        "\n",
        "However, because of, like, \"security\" and \"well-behaved webpages\", that doesn't work in Colab. Here's what you do instead.\n",
        "\n",
        "\n",
        "1.   Click the folder icon in the left-hand side of the window to bring up the file browser.\n",
        "2.   Right-click on the html file that you want to run. The name of the file is the string argument that was passed to the `show()` function: For the first cell below, the corresponding HTML file is `3nodes.html`.\n",
        "3.   Select `Download`.\n",
        "4.   Once that file has downloaded, open the local copy in a web browser of your choice.\n",
        "\n",
        "Voila! Interactive network visualization."
      ],
      "metadata": {
        "id": "yLiU6BlMo9Qm"
      }
    },
    {
      "cell_type": "code",
      "source": [
        "g = Network('500px', '500px')\n",
        "g.add_nodes([1,2,3], value=[10, 100, 400],\n",
        "                         title=['I am node 1', 'node 2 here', 'and im node 3'],\n",
        "                         #x=[21.4, 54.2, 11.2],\n",
        "                         #y=[100.2, 23.54, 32.1],\n",
        "                         label=['NODE 1', 'NODE 2', 'NODE 3'],\n",
        "                         color=['#00ff1e', '#162347', '#dd4b39'])\n",
        "g.save_graph('3nodes.html')\n"
      ],
      "metadata": {
        "id": "sRtRmlcQUHC2"
      },
      "execution_count": null,
      "outputs": []
    },
    {
      "cell_type": "markdown",
      "source": [
        "You can use IPython to display the viz in colab by doing the following steps.\n",
        "\n",
        "1- Change some parameters  when you create the object from Network().\n",
        "`Network('500px', '500px', `**`notebook=True`**`, `**`cdn_resources='remote'`**`)`\n",
        "\n",
        "\n",
        "2- Read the html file and display it using the ```display(HTML())``` imported from **IPython**\n",
        "\n"
      ],
      "metadata": {
        "id": "3Luuh7oDx_IK"
      }
    },
    {
      "cell_type": "code",
      "source": [
        "g = Network('500px', '500px', notebook=True, cdn_resources='remote')\n",
        "g.add_nodes([1,2,3], value=[10, 100, 400],\n",
        "                         title=['I am node 1', 'node 2 here', 'and im node 3'],\n",
        "                         #x=[21.4, 54.2, 11.2],\n",
        "                         #y=[100.2, 23.54, 32.1],\n",
        "                         label=['NODE 1', 'NODE 2', 'NODE 3'],\n",
        "                         color=['#00ff1e', '#162347', '#dd4b39'])\n",
        "g.save_graph('3nodes.html')\n",
        "\n",
        "with open('3nodes.html','r') as file:\n",
        "  html_content = file.read()\n",
        "display(HTML(html_content))"
      ],
      "metadata": {
        "id": "N-K5YrHky5kl"
      },
      "execution_count": null,
      "outputs": []
    },
    {
      "cell_type": "markdown",
      "source": [
        "# Using the `networkx` package to create networks\n",
        "\n",
        "For creating and editing networks, the `networkx` package is easier and more fully-featured than the `pyvis.Network` module. Luckily, it is possible to use the `networkx` package to create your network and use the handy pyvis helper function `.from_nx()` to convert the `networkx` graph to a `pyvis Network`. See the below example, which generates the output visualization in the `nx.html` file."
      ],
      "metadata": {
        "id": "tdRrY_LyqDGw"
      }
    },
    {
      "cell_type": "code",
      "source": [
        "nx_graph = nx.cycle_graph(10)\n",
        "nx_graph.nodes[1]['title'] = 'Number 1'\n",
        "nx_graph.nodes[1]['group'] = 1\n",
        "nx_graph.nodes[3]['title'] = 'I belong to a different group!'\n",
        "nx_graph.nodes[3]['group'] = 10\n",
        "nx_graph.add_node(20, size=20, title='couple', group=2)\n",
        "nx_graph.add_node(21, size=15, title='couple', group=2)\n",
        "nx_graph.add_edge(20, 21, weight=5)\n",
        "nx_graph.add_node(25, size=25, label='lonely', title='lonely node', group=3)\n",
        "nt = Network('500px', '500px')\n",
        "# populates the nodes and edges data structures\n",
        "nt.from_nx(nx_graph)\n",
        "nt.save_graph('nx.html')"
      ],
      "metadata": {
        "id": "rSbugTeQbZUl"
      },
      "execution_count": null,
      "outputs": []
    },
    {
      "cell_type": "markdown",
      "source": [
        "# Importing network data using pandas"
      ],
      "metadata": {
        "id": "wfUuw12kq3P6"
      }
    },
    {
      "cell_type": "code",
      "source": [
        "# Download and extract the dataset\n",
        "!wget https://melaniewalsh.github.io/Intro-Cultural-Analytics/_downloads/1d4d9192fd40b1204b4d790892ce8d5a/game-of-thrones-characters.zip\n",
        "shutil.unpack_archive('game-of-thrones-characters.zip')"
      ],
      "metadata": {
        "id": "ExAK4Cpus8-z"
      },
      "execution_count": null,
      "outputs": []
    },
    {
      "cell_type": "code",
      "source": [
        "got_net = Network(height=\"750px\", width=\"100%\", notebook=True, cdn_resources='remote')\n",
        "\n",
        "# set the physics layout of the network\n",
        "got_net.barnes_hut()\n",
        "\n",
        "#read the csv file using pandas\n",
        "got_data = pd.read_csv('/content/game-of-thrones/got-edges.csv')\n",
        "\n",
        "got_data.columns = got_data.columns.str.lower()\n",
        "\n",
        "\n",
        "got_nx = nx.from_pandas_edgelist(got_data, edge_attr=True)\n",
        "got_net.from_nx(got_nx)\n",
        "\n",
        "got_net.save_graph('got-1.html')\n",
        "\n",
        "#displaying the network viz\n",
        "with open('got-1.html','r') as file:\n",
        "  html_content = file.read()\n",
        "display(HTML(html_content))\n"
      ],
      "metadata": {
        "id": "YLNXCL0PrEPr"
      },
      "execution_count": null,
      "outputs": []
    }
  ]
}